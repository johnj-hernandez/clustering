{
 "cells": [
  {
   "cell_type": "code",
   "execution_count": 9,
   "metadata": {},
   "outputs": [],
   "source": [
    "import numpy as np \n",
    "import matplotlib.pyplot as plt"
   ]
  },
  {
   "cell_type": "code",
   "execution_count": 10,
   "metadata": {},
   "outputs": [],
   "source": [
    "class KMeans:\n",
    "    def __init__(self, k,puntos):\n",
    "        #numbers of clusters\n",
    "        self.k=k\n",
    "        #los datos \n",
    "        self.puntos=puntos\n",
    "        #los k centroides seran en primera instancia los k primeros puntos\n",
    "        self.centroids=np.copy(puntos[0:2])\n",
    "        #ahora agregamos una etiqueta a cada punto indicando a que cluster pertenecen\n",
    "        # en primera instancia todos pertenecen al cluster 1\n",
    "        self.puntos=np.c_[puntos,np.zeros(len(puntos))]\n",
    "        #luego hacemos que el punto 0 pertenezca a el cluster 0 representado por el mismo\n",
    "        self.puntos[0][2]=0\n",
    "        self.N=len(puntos)\n",
    "\n",
    "\n",
    "    def EuclidianDistance(self,x1,y1,x2,y2):\n",
    "        #cada punto solo tiene 2 datos asi que solo tenemos x y y \n",
    "        return np.sqrt((x1-x2)**2  + (y1-y2)**2)\n",
    "        \n",
    "    #problema en la seleccion de clusteres\n",
    "    def selectClusters(self):\n",
    "        for i in range(self.N):\n",
    "            d0=self.EuclidianDistance(self.puntos[i][0],self.puntos[i][1],self.centroids[0][0],self.centroids[0][1])\n",
    "            d1=self.EuclidianDistance(self.puntos[i][0],self.puntos[i][1],self.centroids[1][0],self.centroids[1][1])\n",
    "            if(d0<=d1):\n",
    "                self.puntos[i][2]=0\n",
    "\n",
    "            if(d1<d0):\n",
    "                self.puntos[i][2]=1\n",
    "            d0=0\n",
    "            d1=0\n",
    "    \n",
    "    def updateCentroids(self):\n",
    "        cx0=0\n",
    "        cy0=0\n",
    "        cx1=0\n",
    "        cy1=0\n",
    "        n0=0\n",
    "        n1=0\n",
    "        for i in range(self.N):\n",
    "            if(self.puntos[i][2]==0):\n",
    "                cx0+=self.puntos[i][0]\n",
    "                cy0+=self.puntos[i][1]\n",
    "                n0+=1\n",
    "            if(self.puntos[i][2]==1):\n",
    "                cx1+=self.puntos[i][0]\n",
    "                cy1+=self.puntos[i][1]\n",
    "                n1+=1\n",
    "        self.centroids[0][0]=cx0/n0\n",
    "        self.centroids[0][1]=cy0/n0\n",
    "        self.centroids[1][0]=cx1/n1\n",
    "        self.centroids[1][1]=cy1/n1\n",
    "\n",
    "\n",
    "    def printData(self):\n",
    "        print(self.puntos)\n",
    "    \n",
    "    def printCentroids(self):\n",
    "        print(\"---------CENTROIDS-------\")\n",
    "        print(self.centroids)\n",
    "\n",
    "    def applyNIterations(self,iterations):\n",
    "        for i in range(iterations):\n",
    "            self.calculateInertia()\n",
    "            self.selectClusters()\n",
    "            self.updateCentroids()\n",
    "            #self.printData()\n",
    "            #self.printCentroids()\n",
    "\n",
    "    def plotData(self):\n",
    "        x0=[]\n",
    "        x1=[]\n",
    "        y0=[]\n",
    "        y1=[]\n",
    "        plt.figure()   \n",
    "        for i in range(self.N):\n",
    "            if(self.puntos[i][2]==0):\n",
    "                x0.append(self.puntos[i][0])\n",
    "                y0.append(self.puntos[i][1])\n",
    "\n",
    "            if(self.puntos[i][2]==1):\n",
    "                x1.append(self.puntos[i][0])\n",
    "                y1.append(self.puntos[i][1])\n",
    "        plt.scatter(x0, y0, color='b', label='0')\n",
    "        plt.scatter(x1, y1, color='r', label='1')\n",
    "        plt.legend()\n",
    "        plt.show()\n",
    "    \n",
    "    def calculateInertia(self):\n",
    "        suma=0\n",
    "        for i in range(self.N):\n",
    "            centroid=int(self.puntos[i][2])\n",
    "            distance=self.EuclidianDistance(self.puntos[i][0],self.puntos[i][1],self.centroids[centroid][0],self.centroids[centroid][1])\n",
    "            suma+=distance**2\n",
    "        print(\"Inertia: \"+str(suma))\n"
   ]
  },
  {
   "cell_type": "code",
   "execution_count": 11,
   "metadata": {},
   "outputs": [],
   "source": [
    "    data=data=np.loadtxt(\"cluster_k2.txt\",dtype=float,delimiter=\";\")\n",
    "    clustering=KMeans(2,data)\n"
   ]
  },
  {
   "cell_type": "code",
   "execution_count": 12,
   "metadata": {},
   "outputs": [
    {
     "name": "stdout",
     "output_type": "stream",
     "text": [
      "Inertia: 478400466265.244\n",
      "Inertia: 80649350464.58238\n",
      "Inertia: 9298293790.307772\n",
      "Inertia: 9298293790.307772\n",
      "Inertia: 9298293790.307772\n"
     ]
    }
   ],
   "source": [
    "clustering.applyNIterations(5)"
   ]
  },
  {
   "cell_type": "code",
   "execution_count": 13,
   "metadata": {},
   "outputs": [
    {
     "data": {
      "image/png": "[encoded data removed]",
      "text/plain": [
       "<Figure size 432x288 with 1 Axes>"
      ]
     },
     "metadata": {
      "needs_background": "light"
     },
     "output_type": "display_data"
    }
   ],
   "source": [
    "    clustering.plotData()"
   ]
  },
  {
   "cell_type": "code",
   "execution_count": null,
   "metadata": {},
   "outputs": [],
   "source": []
  }
 ],
 "metadata": {
  "kernelspec": {
   "display_name": "Python 3",
   "language": "python",
   "name": "python3"
  },
  "language_info": {
   "codemirror_mode": {
    "name": "ipython",
    "version": 3
   },
   "file_extension": ".py",
   "mimetype": "text/x-python",
   "name": "python",
   "nbconvert_exporter": "python",
   "pygments_lexer": "ipython3",
   "version": "3.7.1"
  }
 },
 "nbformat": 4,
 "nbformat_minor": 2
}
